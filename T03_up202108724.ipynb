{
 "cells": [
  {
   "cell_type": "markdown",
   "metadata": {},
   "source": [
    "## T03- Imbalanced data "
   ]
  },
  {
   "cell_type": "markdown",
   "metadata": {},
   "source": [
    "The dataset chosen is the well-known Credit Card Fraud , that consists in a set of anonymized credit card transations , that are either labeled as fradulent or genuine.\n",
    "\n",
    "In fact, the dataset contains only numerical input variables which are the result of a PCA transformation. However, due to confidentiality issues, we cannot provide the original features and more background information about the data. Features V1, V2, … V28 are the principal components obtained with PCA, the only features which have not been transformed with PCA are 'Time' and 'Amount'. The 'Time' feature describes the seconds elapsed between each transaction and the first transaction in the dataset. The feature 'Amount' is the transaction Amount, this feature can be used for example-dependant cost-sensitive learning. Feature 'Class' is the response variable and it takes value 1 in case of fraud and 0 otherwise."
   ]
  },
  {
   "cell_type": "code",
   "execution_count": 29,
   "metadata": {},
   "outputs": [
    {
     "name": "stdout",
     "output_type": "stream",
     "text": [
      "Path to dataset files: /home/andre/.cache/kagglehub/datasets/mlg-ulb/creditcardfraud/versions/3\n"
     ]
    }
   ],
   "source": [
    "import kagglehub\n",
    "\n",
    "# Download latest version\n",
    "path = kagglehub.dataset_download(\"mlg-ulb/creditcardfraud\")\n",
    "\n",
    "print(\"Path to dataset files:\", path)"
   ]
  },
  {
   "cell_type": "code",
   "execution_count": 30,
   "metadata": {},
   "outputs": [
    {
     "data": {
      "text/html": [
       "<div>\n",
       "<style scoped>\n",
       "    .dataframe tbody tr th:only-of-type {\n",
       "        vertical-align: middle;\n",
       "    }\n",
       "\n",
       "    .dataframe tbody tr th {\n",
       "        vertical-align: top;\n",
       "    }\n",
       "\n",
       "    .dataframe thead th {\n",
       "        text-align: right;\n",
       "    }\n",
       "</style>\n",
       "<table border=\"1\" class=\"dataframe\">\n",
       "  <thead>\n",
       "    <tr style=\"text-align: right;\">\n",
       "      <th></th>\n",
       "      <th>Time</th>\n",
       "      <th>V1</th>\n",
       "      <th>V2</th>\n",
       "      <th>V3</th>\n",
       "      <th>V4</th>\n",
       "      <th>V5</th>\n",
       "      <th>V6</th>\n",
       "      <th>V7</th>\n",
       "      <th>V8</th>\n",
       "      <th>V9</th>\n",
       "      <th>...</th>\n",
       "      <th>V21</th>\n",
       "      <th>V22</th>\n",
       "      <th>V23</th>\n",
       "      <th>V24</th>\n",
       "      <th>V25</th>\n",
       "      <th>V26</th>\n",
       "      <th>V27</th>\n",
       "      <th>V28</th>\n",
       "      <th>Amount</th>\n",
       "      <th>Class</th>\n",
       "    </tr>\n",
       "  </thead>\n",
       "  <tbody>\n",
       "    <tr>\n",
       "      <th>0</th>\n",
       "      <td>0.0</td>\n",
       "      <td>-1.359807</td>\n",
       "      <td>-0.072781</td>\n",
       "      <td>2.536347</td>\n",
       "      <td>1.378155</td>\n",
       "      <td>-0.338321</td>\n",
       "      <td>0.462388</td>\n",
       "      <td>0.239599</td>\n",
       "      <td>0.098698</td>\n",
       "      <td>0.363787</td>\n",
       "      <td>...</td>\n",
       "      <td>-0.018307</td>\n",
       "      <td>0.277838</td>\n",
       "      <td>-0.110474</td>\n",
       "      <td>0.066928</td>\n",
       "      <td>0.128539</td>\n",
       "      <td>-0.189115</td>\n",
       "      <td>0.133558</td>\n",
       "      <td>-0.021053</td>\n",
       "      <td>149.62</td>\n",
       "      <td>0</td>\n",
       "    </tr>\n",
       "    <tr>\n",
       "      <th>1</th>\n",
       "      <td>0.0</td>\n",
       "      <td>1.191857</td>\n",
       "      <td>0.266151</td>\n",
       "      <td>0.166480</td>\n",
       "      <td>0.448154</td>\n",
       "      <td>0.060018</td>\n",
       "      <td>-0.082361</td>\n",
       "      <td>-0.078803</td>\n",
       "      <td>0.085102</td>\n",
       "      <td>-0.255425</td>\n",
       "      <td>...</td>\n",
       "      <td>-0.225775</td>\n",
       "      <td>-0.638672</td>\n",
       "      <td>0.101288</td>\n",
       "      <td>-0.339846</td>\n",
       "      <td>0.167170</td>\n",
       "      <td>0.125895</td>\n",
       "      <td>-0.008983</td>\n",
       "      <td>0.014724</td>\n",
       "      <td>2.69</td>\n",
       "      <td>0</td>\n",
       "    </tr>\n",
       "    <tr>\n",
       "      <th>2</th>\n",
       "      <td>1.0</td>\n",
       "      <td>-1.358354</td>\n",
       "      <td>-1.340163</td>\n",
       "      <td>1.773209</td>\n",
       "      <td>0.379780</td>\n",
       "      <td>-0.503198</td>\n",
       "      <td>1.800499</td>\n",
       "      <td>0.791461</td>\n",
       "      <td>0.247676</td>\n",
       "      <td>-1.514654</td>\n",
       "      <td>...</td>\n",
       "      <td>0.247998</td>\n",
       "      <td>0.771679</td>\n",
       "      <td>0.909412</td>\n",
       "      <td>-0.689281</td>\n",
       "      <td>-0.327642</td>\n",
       "      <td>-0.139097</td>\n",
       "      <td>-0.055353</td>\n",
       "      <td>-0.059752</td>\n",
       "      <td>378.66</td>\n",
       "      <td>0</td>\n",
       "    </tr>\n",
       "    <tr>\n",
       "      <th>3</th>\n",
       "      <td>1.0</td>\n",
       "      <td>-0.966272</td>\n",
       "      <td>-0.185226</td>\n",
       "      <td>1.792993</td>\n",
       "      <td>-0.863291</td>\n",
       "      <td>-0.010309</td>\n",
       "      <td>1.247203</td>\n",
       "      <td>0.237609</td>\n",
       "      <td>0.377436</td>\n",
       "      <td>-1.387024</td>\n",
       "      <td>...</td>\n",
       "      <td>-0.108300</td>\n",
       "      <td>0.005274</td>\n",
       "      <td>-0.190321</td>\n",
       "      <td>-1.175575</td>\n",
       "      <td>0.647376</td>\n",
       "      <td>-0.221929</td>\n",
       "      <td>0.062723</td>\n",
       "      <td>0.061458</td>\n",
       "      <td>123.50</td>\n",
       "      <td>0</td>\n",
       "    </tr>\n",
       "    <tr>\n",
       "      <th>4</th>\n",
       "      <td>2.0</td>\n",
       "      <td>-1.158233</td>\n",
       "      <td>0.877737</td>\n",
       "      <td>1.548718</td>\n",
       "      <td>0.403034</td>\n",
       "      <td>-0.407193</td>\n",
       "      <td>0.095921</td>\n",
       "      <td>0.592941</td>\n",
       "      <td>-0.270533</td>\n",
       "      <td>0.817739</td>\n",
       "      <td>...</td>\n",
       "      <td>-0.009431</td>\n",
       "      <td>0.798278</td>\n",
       "      <td>-0.137458</td>\n",
       "      <td>0.141267</td>\n",
       "      <td>-0.206010</td>\n",
       "      <td>0.502292</td>\n",
       "      <td>0.219422</td>\n",
       "      <td>0.215153</td>\n",
       "      <td>69.99</td>\n",
       "      <td>0</td>\n",
       "    </tr>\n",
       "  </tbody>\n",
       "</table>\n",
       "<p>5 rows × 31 columns</p>\n",
       "</div>"
      ],
      "text/plain": [
       "   Time        V1        V2        V3        V4        V5        V6        V7  \\\n",
       "0   0.0 -1.359807 -0.072781  2.536347  1.378155 -0.338321  0.462388  0.239599   \n",
       "1   0.0  1.191857  0.266151  0.166480  0.448154  0.060018 -0.082361 -0.078803   \n",
       "2   1.0 -1.358354 -1.340163  1.773209  0.379780 -0.503198  1.800499  0.791461   \n",
       "3   1.0 -0.966272 -0.185226  1.792993 -0.863291 -0.010309  1.247203  0.237609   \n",
       "4   2.0 -1.158233  0.877737  1.548718  0.403034 -0.407193  0.095921  0.592941   \n",
       "\n",
       "         V8        V9  ...       V21       V22       V23       V24       V25  \\\n",
       "0  0.098698  0.363787  ... -0.018307  0.277838 -0.110474  0.066928  0.128539   \n",
       "1  0.085102 -0.255425  ... -0.225775 -0.638672  0.101288 -0.339846  0.167170   \n",
       "2  0.247676 -1.514654  ...  0.247998  0.771679  0.909412 -0.689281 -0.327642   \n",
       "3  0.377436 -1.387024  ... -0.108300  0.005274 -0.190321 -1.175575  0.647376   \n",
       "4 -0.270533  0.817739  ... -0.009431  0.798278 -0.137458  0.141267 -0.206010   \n",
       "\n",
       "        V26       V27       V28  Amount  Class  \n",
       "0 -0.189115  0.133558 -0.021053  149.62      0  \n",
       "1  0.125895 -0.008983  0.014724    2.69      0  \n",
       "2 -0.139097 -0.055353 -0.059752  378.66      0  \n",
       "3 -0.221929  0.062723  0.061458  123.50      0  \n",
       "4  0.502292  0.219422  0.215153   69.99      0  \n",
       "\n",
       "[5 rows x 31 columns]"
      ]
     },
     "execution_count": 30,
     "metadata": {},
     "output_type": "execute_result"
    }
   ],
   "source": [
    "import pandas as pd\n",
    "\n",
    "df = pd.read_csv(path + \"/creditcard.csv\")\n",
    "df.head()"
   ]
  },
  {
   "cell_type": "markdown",
   "metadata": {},
   "source": [
    "## Understanding the data"
   ]
  },
  {
   "cell_type": "markdown",
   "metadata": {},
   "source": [
    "The first thing to be done is gather a basic sense of our data. As previosly stated, except for the transaction and amount we dont know what the other columns are (due to privacy reasons). Effectively, the description of the data says that all the features, except for time and amount,  went through a PCA transformation , that is, a Dimensionality Reduction technique, . It is imoportorder to implement a PCA transformation features need to be previously scaled. In this case, all the V features have been scaled (or, at least, it can be presumed that such operation was done)."
   ]
  },
  {
   "cell_type": "code",
   "execution_count": 31,
   "metadata": {},
   "outputs": [
    {
     "data": {
      "text/html": [
       "<div>\n",
       "<style scoped>\n",
       "    .dataframe tbody tr th:only-of-type {\n",
       "        vertical-align: middle;\n",
       "    }\n",
       "\n",
       "    .dataframe tbody tr th {\n",
       "        vertical-align: top;\n",
       "    }\n",
       "\n",
       "    .dataframe thead th {\n",
       "        text-align: right;\n",
       "    }\n",
       "</style>\n",
       "<table border=\"1\" class=\"dataframe\">\n",
       "  <thead>\n",
       "    <tr style=\"text-align: right;\">\n",
       "      <th></th>\n",
       "      <th>Time</th>\n",
       "      <th>V1</th>\n",
       "      <th>V2</th>\n",
       "      <th>V3</th>\n",
       "      <th>V4</th>\n",
       "      <th>V5</th>\n",
       "      <th>V6</th>\n",
       "      <th>V7</th>\n",
       "      <th>V8</th>\n",
       "      <th>V9</th>\n",
       "      <th>...</th>\n",
       "      <th>V21</th>\n",
       "      <th>V22</th>\n",
       "      <th>V23</th>\n",
       "      <th>V24</th>\n",
       "      <th>V25</th>\n",
       "      <th>V26</th>\n",
       "      <th>V27</th>\n",
       "      <th>V28</th>\n",
       "      <th>Amount</th>\n",
       "      <th>Class</th>\n",
       "    </tr>\n",
       "  </thead>\n",
       "  <tbody>\n",
       "    <tr>\n",
       "      <th>count</th>\n",
       "      <td>284807.000000</td>\n",
       "      <td>2.848070e+05</td>\n",
       "      <td>2.848070e+05</td>\n",
       "      <td>2.848070e+05</td>\n",
       "      <td>2.848070e+05</td>\n",
       "      <td>2.848070e+05</td>\n",
       "      <td>2.848070e+05</td>\n",
       "      <td>2.848070e+05</td>\n",
       "      <td>2.848070e+05</td>\n",
       "      <td>2.848070e+05</td>\n",
       "      <td>...</td>\n",
       "      <td>2.848070e+05</td>\n",
       "      <td>2.848070e+05</td>\n",
       "      <td>2.848070e+05</td>\n",
       "      <td>2.848070e+05</td>\n",
       "      <td>2.848070e+05</td>\n",
       "      <td>2.848070e+05</td>\n",
       "      <td>2.848070e+05</td>\n",
       "      <td>2.848070e+05</td>\n",
       "      <td>284807.000000</td>\n",
       "      <td>284807.000000</td>\n",
       "    </tr>\n",
       "    <tr>\n",
       "      <th>mean</th>\n",
       "      <td>94813.859575</td>\n",
       "      <td>1.168375e-15</td>\n",
       "      <td>3.416908e-16</td>\n",
       "      <td>-1.379537e-15</td>\n",
       "      <td>2.074095e-15</td>\n",
       "      <td>9.604066e-16</td>\n",
       "      <td>1.487313e-15</td>\n",
       "      <td>-5.556467e-16</td>\n",
       "      <td>1.213481e-16</td>\n",
       "      <td>-2.406331e-15</td>\n",
       "      <td>...</td>\n",
       "      <td>1.654067e-16</td>\n",
       "      <td>-3.568593e-16</td>\n",
       "      <td>2.578648e-16</td>\n",
       "      <td>4.473266e-15</td>\n",
       "      <td>5.340915e-16</td>\n",
       "      <td>1.683437e-15</td>\n",
       "      <td>-3.660091e-16</td>\n",
       "      <td>-1.227390e-16</td>\n",
       "      <td>88.349619</td>\n",
       "      <td>0.001727</td>\n",
       "    </tr>\n",
       "    <tr>\n",
       "      <th>std</th>\n",
       "      <td>47488.145955</td>\n",
       "      <td>1.958696e+00</td>\n",
       "      <td>1.651309e+00</td>\n",
       "      <td>1.516255e+00</td>\n",
       "      <td>1.415869e+00</td>\n",
       "      <td>1.380247e+00</td>\n",
       "      <td>1.332271e+00</td>\n",
       "      <td>1.237094e+00</td>\n",
       "      <td>1.194353e+00</td>\n",
       "      <td>1.098632e+00</td>\n",
       "      <td>...</td>\n",
       "      <td>7.345240e-01</td>\n",
       "      <td>7.257016e-01</td>\n",
       "      <td>6.244603e-01</td>\n",
       "      <td>6.056471e-01</td>\n",
       "      <td>5.212781e-01</td>\n",
       "      <td>4.822270e-01</td>\n",
       "      <td>4.036325e-01</td>\n",
       "      <td>3.300833e-01</td>\n",
       "      <td>250.120109</td>\n",
       "      <td>0.041527</td>\n",
       "    </tr>\n",
       "    <tr>\n",
       "      <th>min</th>\n",
       "      <td>0.000000</td>\n",
       "      <td>-5.640751e+01</td>\n",
       "      <td>-7.271573e+01</td>\n",
       "      <td>-4.832559e+01</td>\n",
       "      <td>-5.683171e+00</td>\n",
       "      <td>-1.137433e+02</td>\n",
       "      <td>-2.616051e+01</td>\n",
       "      <td>-4.355724e+01</td>\n",
       "      <td>-7.321672e+01</td>\n",
       "      <td>-1.343407e+01</td>\n",
       "      <td>...</td>\n",
       "      <td>-3.483038e+01</td>\n",
       "      <td>-1.093314e+01</td>\n",
       "      <td>-4.480774e+01</td>\n",
       "      <td>-2.836627e+00</td>\n",
       "      <td>-1.029540e+01</td>\n",
       "      <td>-2.604551e+00</td>\n",
       "      <td>-2.256568e+01</td>\n",
       "      <td>-1.543008e+01</td>\n",
       "      <td>0.000000</td>\n",
       "      <td>0.000000</td>\n",
       "    </tr>\n",
       "    <tr>\n",
       "      <th>25%</th>\n",
       "      <td>54201.500000</td>\n",
       "      <td>-9.203734e-01</td>\n",
       "      <td>-5.985499e-01</td>\n",
       "      <td>-8.903648e-01</td>\n",
       "      <td>-8.486401e-01</td>\n",
       "      <td>-6.915971e-01</td>\n",
       "      <td>-7.682956e-01</td>\n",
       "      <td>-5.540759e-01</td>\n",
       "      <td>-2.086297e-01</td>\n",
       "      <td>-6.430976e-01</td>\n",
       "      <td>...</td>\n",
       "      <td>-2.283949e-01</td>\n",
       "      <td>-5.423504e-01</td>\n",
       "      <td>-1.618463e-01</td>\n",
       "      <td>-3.545861e-01</td>\n",
       "      <td>-3.171451e-01</td>\n",
       "      <td>-3.269839e-01</td>\n",
       "      <td>-7.083953e-02</td>\n",
       "      <td>-5.295979e-02</td>\n",
       "      <td>5.600000</td>\n",
       "      <td>0.000000</td>\n",
       "    </tr>\n",
       "    <tr>\n",
       "      <th>50%</th>\n",
       "      <td>84692.000000</td>\n",
       "      <td>1.810880e-02</td>\n",
       "      <td>6.548556e-02</td>\n",
       "      <td>1.798463e-01</td>\n",
       "      <td>-1.984653e-02</td>\n",
       "      <td>-5.433583e-02</td>\n",
       "      <td>-2.741871e-01</td>\n",
       "      <td>4.010308e-02</td>\n",
       "      <td>2.235804e-02</td>\n",
       "      <td>-5.142873e-02</td>\n",
       "      <td>...</td>\n",
       "      <td>-2.945017e-02</td>\n",
       "      <td>6.781943e-03</td>\n",
       "      <td>-1.119293e-02</td>\n",
       "      <td>4.097606e-02</td>\n",
       "      <td>1.659350e-02</td>\n",
       "      <td>-5.213911e-02</td>\n",
       "      <td>1.342146e-03</td>\n",
       "      <td>1.124383e-02</td>\n",
       "      <td>22.000000</td>\n",
       "      <td>0.000000</td>\n",
       "    </tr>\n",
       "    <tr>\n",
       "      <th>75%</th>\n",
       "      <td>139320.500000</td>\n",
       "      <td>1.315642e+00</td>\n",
       "      <td>8.037239e-01</td>\n",
       "      <td>1.027196e+00</td>\n",
       "      <td>7.433413e-01</td>\n",
       "      <td>6.119264e-01</td>\n",
       "      <td>3.985649e-01</td>\n",
       "      <td>5.704361e-01</td>\n",
       "      <td>3.273459e-01</td>\n",
       "      <td>5.971390e-01</td>\n",
       "      <td>...</td>\n",
       "      <td>1.863772e-01</td>\n",
       "      <td>5.285536e-01</td>\n",
       "      <td>1.476421e-01</td>\n",
       "      <td>4.395266e-01</td>\n",
       "      <td>3.507156e-01</td>\n",
       "      <td>2.409522e-01</td>\n",
       "      <td>9.104512e-02</td>\n",
       "      <td>7.827995e-02</td>\n",
       "      <td>77.165000</td>\n",
       "      <td>0.000000</td>\n",
       "    </tr>\n",
       "    <tr>\n",
       "      <th>max</th>\n",
       "      <td>172792.000000</td>\n",
       "      <td>2.454930e+00</td>\n",
       "      <td>2.205773e+01</td>\n",
       "      <td>9.382558e+00</td>\n",
       "      <td>1.687534e+01</td>\n",
       "      <td>3.480167e+01</td>\n",
       "      <td>7.330163e+01</td>\n",
       "      <td>1.205895e+02</td>\n",
       "      <td>2.000721e+01</td>\n",
       "      <td>1.559499e+01</td>\n",
       "      <td>...</td>\n",
       "      <td>2.720284e+01</td>\n",
       "      <td>1.050309e+01</td>\n",
       "      <td>2.252841e+01</td>\n",
       "      <td>4.584549e+00</td>\n",
       "      <td>7.519589e+00</td>\n",
       "      <td>3.517346e+00</td>\n",
       "      <td>3.161220e+01</td>\n",
       "      <td>3.384781e+01</td>\n",
       "      <td>25691.160000</td>\n",
       "      <td>1.000000</td>\n",
       "    </tr>\n",
       "  </tbody>\n",
       "</table>\n",
       "<p>8 rows × 31 columns</p>\n",
       "</div>"
      ],
      "text/plain": [
       "                Time            V1            V2            V3            V4  \\\n",
       "count  284807.000000  2.848070e+05  2.848070e+05  2.848070e+05  2.848070e+05   \n",
       "mean    94813.859575  1.168375e-15  3.416908e-16 -1.379537e-15  2.074095e-15   \n",
       "std     47488.145955  1.958696e+00  1.651309e+00  1.516255e+00  1.415869e+00   \n",
       "min         0.000000 -5.640751e+01 -7.271573e+01 -4.832559e+01 -5.683171e+00   \n",
       "25%     54201.500000 -9.203734e-01 -5.985499e-01 -8.903648e-01 -8.486401e-01   \n",
       "50%     84692.000000  1.810880e-02  6.548556e-02  1.798463e-01 -1.984653e-02   \n",
       "75%    139320.500000  1.315642e+00  8.037239e-01  1.027196e+00  7.433413e-01   \n",
       "max    172792.000000  2.454930e+00  2.205773e+01  9.382558e+00  1.687534e+01   \n",
       "\n",
       "                 V5            V6            V7            V8            V9  \\\n",
       "count  2.848070e+05  2.848070e+05  2.848070e+05  2.848070e+05  2.848070e+05   \n",
       "mean   9.604066e-16  1.487313e-15 -5.556467e-16  1.213481e-16 -2.406331e-15   \n",
       "std    1.380247e+00  1.332271e+00  1.237094e+00  1.194353e+00  1.098632e+00   \n",
       "min   -1.137433e+02 -2.616051e+01 -4.355724e+01 -7.321672e+01 -1.343407e+01   \n",
       "25%   -6.915971e-01 -7.682956e-01 -5.540759e-01 -2.086297e-01 -6.430976e-01   \n",
       "50%   -5.433583e-02 -2.741871e-01  4.010308e-02  2.235804e-02 -5.142873e-02   \n",
       "75%    6.119264e-01  3.985649e-01  5.704361e-01  3.273459e-01  5.971390e-01   \n",
       "max    3.480167e+01  7.330163e+01  1.205895e+02  2.000721e+01  1.559499e+01   \n",
       "\n",
       "       ...           V21           V22           V23           V24  \\\n",
       "count  ...  2.848070e+05  2.848070e+05  2.848070e+05  2.848070e+05   \n",
       "mean   ...  1.654067e-16 -3.568593e-16  2.578648e-16  4.473266e-15   \n",
       "std    ...  7.345240e-01  7.257016e-01  6.244603e-01  6.056471e-01   \n",
       "min    ... -3.483038e+01 -1.093314e+01 -4.480774e+01 -2.836627e+00   \n",
       "25%    ... -2.283949e-01 -5.423504e-01 -1.618463e-01 -3.545861e-01   \n",
       "50%    ... -2.945017e-02  6.781943e-03 -1.119293e-02  4.097606e-02   \n",
       "75%    ...  1.863772e-01  5.285536e-01  1.476421e-01  4.395266e-01   \n",
       "max    ...  2.720284e+01  1.050309e+01  2.252841e+01  4.584549e+00   \n",
       "\n",
       "                V25           V26           V27           V28         Amount  \\\n",
       "count  2.848070e+05  2.848070e+05  2.848070e+05  2.848070e+05  284807.000000   \n",
       "mean   5.340915e-16  1.683437e-15 -3.660091e-16 -1.227390e-16      88.349619   \n",
       "std    5.212781e-01  4.822270e-01  4.036325e-01  3.300833e-01     250.120109   \n",
       "min   -1.029540e+01 -2.604551e+00 -2.256568e+01 -1.543008e+01       0.000000   \n",
       "25%   -3.171451e-01 -3.269839e-01 -7.083953e-02 -5.295979e-02       5.600000   \n",
       "50%    1.659350e-02 -5.213911e-02  1.342146e-03  1.124383e-02      22.000000   \n",
       "75%    3.507156e-01  2.409522e-01  9.104512e-02  7.827995e-02      77.165000   \n",
       "max    7.519589e+00  3.517346e+00  3.161220e+01  3.384781e+01   25691.160000   \n",
       "\n",
       "               Class  \n",
       "count  284807.000000  \n",
       "mean        0.001727  \n",
       "std         0.041527  \n",
       "min         0.000000  \n",
       "25%         0.000000  \n",
       "50%         0.000000  \n",
       "75%         0.000000  \n",
       "max         1.000000  \n",
       "\n",
       "[8 rows x 31 columns]"
      ]
     },
     "execution_count": 31,
     "metadata": {},
     "output_type": "execute_result"
    }
   ],
   "source": [
    "df.describe()"
   ]
  },
  {
   "cell_type": "code",
   "execution_count": 32,
   "metadata": {},
   "outputs": [
    {
     "data": {
      "text/plain": [
       "0"
      ]
     },
     "execution_count": 32,
     "metadata": {},
     "output_type": "execute_result"
    }
   ],
   "source": [
    "df.isnull().sum().sum()"
   ]
  },
  {
   "cell_type": "markdown",
   "metadata": {},
   "source": [
    "The dataset does not have any missing values , so , it doesn't need no imputation operations"
   ]
  },
  {
   "cell_type": "code",
   "execution_count": 33,
   "metadata": {},
   "outputs": [
    {
     "data": {
      "text/html": [
       "<div>\n",
       "<style scoped>\n",
       "    .dataframe tbody tr th:only-of-type {\n",
       "        vertical-align: middle;\n",
       "    }\n",
       "\n",
       "    .dataframe tbody tr th {\n",
       "        vertical-align: top;\n",
       "    }\n",
       "\n",
       "    .dataframe thead th {\n",
       "        text-align: right;\n",
       "    }\n",
       "</style>\n",
       "<table border=\"1\" class=\"dataframe\">\n",
       "  <thead>\n",
       "    <tr style=\"text-align: right;\">\n",
       "      <th></th>\n",
       "      <th>Time</th>\n",
       "      <th>V1</th>\n",
       "      <th>V2</th>\n",
       "      <th>V3</th>\n",
       "      <th>V4</th>\n",
       "      <th>V5</th>\n",
       "      <th>V6</th>\n",
       "      <th>V7</th>\n",
       "      <th>V8</th>\n",
       "      <th>V9</th>\n",
       "      <th>...</th>\n",
       "      <th>V21</th>\n",
       "      <th>V22</th>\n",
       "      <th>V23</th>\n",
       "      <th>V24</th>\n",
       "      <th>V25</th>\n",
       "      <th>V26</th>\n",
       "      <th>V27</th>\n",
       "      <th>V28</th>\n",
       "      <th>Amount</th>\n",
       "      <th>Class</th>\n",
       "    </tr>\n",
       "  </thead>\n",
       "  <tbody>\n",
       "    <tr>\n",
       "      <th>33</th>\n",
       "      <td>26.0</td>\n",
       "      <td>-0.529912</td>\n",
       "      <td>0.873892</td>\n",
       "      <td>1.347247</td>\n",
       "      <td>0.145457</td>\n",
       "      <td>0.414209</td>\n",
       "      <td>0.100223</td>\n",
       "      <td>0.711206</td>\n",
       "      <td>0.176066</td>\n",
       "      <td>-0.286717</td>\n",
       "      <td>...</td>\n",
       "      <td>0.046949</td>\n",
       "      <td>0.208105</td>\n",
       "      <td>-0.185548</td>\n",
       "      <td>0.001031</td>\n",
       "      <td>0.098816</td>\n",
       "      <td>-0.552904</td>\n",
       "      <td>-0.073288</td>\n",
       "      <td>0.023307</td>\n",
       "      <td>6.14</td>\n",
       "      <td>0</td>\n",
       "    </tr>\n",
       "    <tr>\n",
       "      <th>35</th>\n",
       "      <td>26.0</td>\n",
       "      <td>-0.535388</td>\n",
       "      <td>0.865268</td>\n",
       "      <td>1.351076</td>\n",
       "      <td>0.147575</td>\n",
       "      <td>0.433680</td>\n",
       "      <td>0.086983</td>\n",
       "      <td>0.693039</td>\n",
       "      <td>0.179742</td>\n",
       "      <td>-0.285642</td>\n",
       "      <td>...</td>\n",
       "      <td>0.049526</td>\n",
       "      <td>0.206537</td>\n",
       "      <td>-0.187108</td>\n",
       "      <td>0.000753</td>\n",
       "      <td>0.098117</td>\n",
       "      <td>-0.553471</td>\n",
       "      <td>-0.078306</td>\n",
       "      <td>0.025427</td>\n",
       "      <td>1.77</td>\n",
       "      <td>0</td>\n",
       "    </tr>\n",
       "    <tr>\n",
       "      <th>113</th>\n",
       "      <td>74.0</td>\n",
       "      <td>1.038370</td>\n",
       "      <td>0.127486</td>\n",
       "      <td>0.184456</td>\n",
       "      <td>1.109950</td>\n",
       "      <td>0.441699</td>\n",
       "      <td>0.945283</td>\n",
       "      <td>-0.036715</td>\n",
       "      <td>0.350995</td>\n",
       "      <td>0.118950</td>\n",
       "      <td>...</td>\n",
       "      <td>0.102520</td>\n",
       "      <td>0.605089</td>\n",
       "      <td>0.023092</td>\n",
       "      <td>-0.626463</td>\n",
       "      <td>0.479120</td>\n",
       "      <td>-0.166937</td>\n",
       "      <td>0.081247</td>\n",
       "      <td>0.001192</td>\n",
       "      <td>1.18</td>\n",
       "      <td>0</td>\n",
       "    </tr>\n",
       "    <tr>\n",
       "      <th>114</th>\n",
       "      <td>74.0</td>\n",
       "      <td>1.038370</td>\n",
       "      <td>0.127486</td>\n",
       "      <td>0.184456</td>\n",
       "      <td>1.109950</td>\n",
       "      <td>0.441699</td>\n",
       "      <td>0.945283</td>\n",
       "      <td>-0.036715</td>\n",
       "      <td>0.350995</td>\n",
       "      <td>0.118950</td>\n",
       "      <td>...</td>\n",
       "      <td>0.102520</td>\n",
       "      <td>0.605089</td>\n",
       "      <td>0.023092</td>\n",
       "      <td>-0.626463</td>\n",
       "      <td>0.479120</td>\n",
       "      <td>-0.166937</td>\n",
       "      <td>0.081247</td>\n",
       "      <td>0.001192</td>\n",
       "      <td>1.18</td>\n",
       "      <td>0</td>\n",
       "    </tr>\n",
       "    <tr>\n",
       "      <th>115</th>\n",
       "      <td>74.0</td>\n",
       "      <td>1.038370</td>\n",
       "      <td>0.127486</td>\n",
       "      <td>0.184456</td>\n",
       "      <td>1.109950</td>\n",
       "      <td>0.441699</td>\n",
       "      <td>0.945283</td>\n",
       "      <td>-0.036715</td>\n",
       "      <td>0.350995</td>\n",
       "      <td>0.118950</td>\n",
       "      <td>...</td>\n",
       "      <td>0.102520</td>\n",
       "      <td>0.605089</td>\n",
       "      <td>0.023092</td>\n",
       "      <td>-0.626463</td>\n",
       "      <td>0.479120</td>\n",
       "      <td>-0.166937</td>\n",
       "      <td>0.081247</td>\n",
       "      <td>0.001192</td>\n",
       "      <td>1.18</td>\n",
       "      <td>0</td>\n",
       "    </tr>\n",
       "    <tr>\n",
       "      <th>...</th>\n",
       "      <td>...</td>\n",
       "      <td>...</td>\n",
       "      <td>...</td>\n",
       "      <td>...</td>\n",
       "      <td>...</td>\n",
       "      <td>...</td>\n",
       "      <td>...</td>\n",
       "      <td>...</td>\n",
       "      <td>...</td>\n",
       "      <td>...</td>\n",
       "      <td>...</td>\n",
       "      <td>...</td>\n",
       "      <td>...</td>\n",
       "      <td>...</td>\n",
       "      <td>...</td>\n",
       "      <td>...</td>\n",
       "      <td>...</td>\n",
       "      <td>...</td>\n",
       "      <td>...</td>\n",
       "      <td>...</td>\n",
       "      <td>...</td>\n",
       "    </tr>\n",
       "    <tr>\n",
       "      <th>282987</th>\n",
       "      <td>171288.0</td>\n",
       "      <td>1.912550</td>\n",
       "      <td>-0.455240</td>\n",
       "      <td>-1.750654</td>\n",
       "      <td>0.454324</td>\n",
       "      <td>2.089130</td>\n",
       "      <td>4.160019</td>\n",
       "      <td>-0.881302</td>\n",
       "      <td>1.081750</td>\n",
       "      <td>1.022928</td>\n",
       "      <td>...</td>\n",
       "      <td>-0.524067</td>\n",
       "      <td>-1.337510</td>\n",
       "      <td>0.473943</td>\n",
       "      <td>0.616683</td>\n",
       "      <td>-0.283548</td>\n",
       "      <td>-1.084843</td>\n",
       "      <td>0.073133</td>\n",
       "      <td>-0.036020</td>\n",
       "      <td>11.99</td>\n",
       "      <td>0</td>\n",
       "    </tr>\n",
       "    <tr>\n",
       "      <th>283483</th>\n",
       "      <td>171627.0</td>\n",
       "      <td>-1.464380</td>\n",
       "      <td>1.368119</td>\n",
       "      <td>0.815992</td>\n",
       "      <td>-0.601282</td>\n",
       "      <td>-0.689115</td>\n",
       "      <td>-0.487154</td>\n",
       "      <td>-0.303778</td>\n",
       "      <td>0.884953</td>\n",
       "      <td>0.054065</td>\n",
       "      <td>...</td>\n",
       "      <td>0.287217</td>\n",
       "      <td>0.947825</td>\n",
       "      <td>-0.218773</td>\n",
       "      <td>0.082926</td>\n",
       "      <td>0.044127</td>\n",
       "      <td>0.639270</td>\n",
       "      <td>0.213565</td>\n",
       "      <td>0.119251</td>\n",
       "      <td>6.82</td>\n",
       "      <td>0</td>\n",
       "    </tr>\n",
       "    <tr>\n",
       "      <th>283485</th>\n",
       "      <td>171627.0</td>\n",
       "      <td>-1.457978</td>\n",
       "      <td>1.378203</td>\n",
       "      <td>0.811515</td>\n",
       "      <td>-0.603760</td>\n",
       "      <td>-0.711883</td>\n",
       "      <td>-0.471672</td>\n",
       "      <td>-0.282535</td>\n",
       "      <td>0.880654</td>\n",
       "      <td>0.052808</td>\n",
       "      <td>...</td>\n",
       "      <td>0.284205</td>\n",
       "      <td>0.949659</td>\n",
       "      <td>-0.216949</td>\n",
       "      <td>0.083250</td>\n",
       "      <td>0.044944</td>\n",
       "      <td>0.639933</td>\n",
       "      <td>0.219432</td>\n",
       "      <td>0.116772</td>\n",
       "      <td>11.93</td>\n",
       "      <td>0</td>\n",
       "    </tr>\n",
       "    <tr>\n",
       "      <th>284191</th>\n",
       "      <td>172233.0</td>\n",
       "      <td>-2.667936</td>\n",
       "      <td>3.160505</td>\n",
       "      <td>-3.355984</td>\n",
       "      <td>1.007845</td>\n",
       "      <td>-0.377397</td>\n",
       "      <td>-0.109730</td>\n",
       "      <td>-0.667233</td>\n",
       "      <td>2.309700</td>\n",
       "      <td>-1.639306</td>\n",
       "      <td>...</td>\n",
       "      <td>0.391483</td>\n",
       "      <td>0.266536</td>\n",
       "      <td>-0.079853</td>\n",
       "      <td>-0.096395</td>\n",
       "      <td>0.086719</td>\n",
       "      <td>-0.451128</td>\n",
       "      <td>-1.183743</td>\n",
       "      <td>-0.222200</td>\n",
       "      <td>55.66</td>\n",
       "      <td>0</td>\n",
       "    </tr>\n",
       "    <tr>\n",
       "      <th>284193</th>\n",
       "      <td>172233.0</td>\n",
       "      <td>-2.691642</td>\n",
       "      <td>3.123168</td>\n",
       "      <td>-3.339407</td>\n",
       "      <td>1.017018</td>\n",
       "      <td>-0.293095</td>\n",
       "      <td>-0.167054</td>\n",
       "      <td>-0.745886</td>\n",
       "      <td>2.325616</td>\n",
       "      <td>-1.634651</td>\n",
       "      <td>...</td>\n",
       "      <td>0.402639</td>\n",
       "      <td>0.259746</td>\n",
       "      <td>-0.086606</td>\n",
       "      <td>-0.097597</td>\n",
       "      <td>0.083693</td>\n",
       "      <td>-0.453584</td>\n",
       "      <td>-1.205466</td>\n",
       "      <td>-0.213020</td>\n",
       "      <td>36.74</td>\n",
       "      <td>0</td>\n",
       "    </tr>\n",
       "  </tbody>\n",
       "</table>\n",
       "<p>1081 rows × 31 columns</p>\n",
       "</div>"
      ],
      "text/plain": [
       "            Time        V1        V2        V3        V4        V5        V6  \\\n",
       "33          26.0 -0.529912  0.873892  1.347247  0.145457  0.414209  0.100223   \n",
       "35          26.0 -0.535388  0.865268  1.351076  0.147575  0.433680  0.086983   \n",
       "113         74.0  1.038370  0.127486  0.184456  1.109950  0.441699  0.945283   \n",
       "114         74.0  1.038370  0.127486  0.184456  1.109950  0.441699  0.945283   \n",
       "115         74.0  1.038370  0.127486  0.184456  1.109950  0.441699  0.945283   \n",
       "...          ...       ...       ...       ...       ...       ...       ...   \n",
       "282987  171288.0  1.912550 -0.455240 -1.750654  0.454324  2.089130  4.160019   \n",
       "283483  171627.0 -1.464380  1.368119  0.815992 -0.601282 -0.689115 -0.487154   \n",
       "283485  171627.0 -1.457978  1.378203  0.811515 -0.603760 -0.711883 -0.471672   \n",
       "284191  172233.0 -2.667936  3.160505 -3.355984  1.007845 -0.377397 -0.109730   \n",
       "284193  172233.0 -2.691642  3.123168 -3.339407  1.017018 -0.293095 -0.167054   \n",
       "\n",
       "              V7        V8        V9  ...       V21       V22       V23  \\\n",
       "33      0.711206  0.176066 -0.286717  ...  0.046949  0.208105 -0.185548   \n",
       "35      0.693039  0.179742 -0.285642  ...  0.049526  0.206537 -0.187108   \n",
       "113    -0.036715  0.350995  0.118950  ...  0.102520  0.605089  0.023092   \n",
       "114    -0.036715  0.350995  0.118950  ...  0.102520  0.605089  0.023092   \n",
       "115    -0.036715  0.350995  0.118950  ...  0.102520  0.605089  0.023092   \n",
       "...          ...       ...       ...  ...       ...       ...       ...   \n",
       "282987 -0.881302  1.081750  1.022928  ... -0.524067 -1.337510  0.473943   \n",
       "283483 -0.303778  0.884953  0.054065  ...  0.287217  0.947825 -0.218773   \n",
       "283485 -0.282535  0.880654  0.052808  ...  0.284205  0.949659 -0.216949   \n",
       "284191 -0.667233  2.309700 -1.639306  ...  0.391483  0.266536 -0.079853   \n",
       "284193 -0.745886  2.325616 -1.634651  ...  0.402639  0.259746 -0.086606   \n",
       "\n",
       "             V24       V25       V26       V27       V28  Amount  Class  \n",
       "33      0.001031  0.098816 -0.552904 -0.073288  0.023307    6.14      0  \n",
       "35      0.000753  0.098117 -0.553471 -0.078306  0.025427    1.77      0  \n",
       "113    -0.626463  0.479120 -0.166937  0.081247  0.001192    1.18      0  \n",
       "114    -0.626463  0.479120 -0.166937  0.081247  0.001192    1.18      0  \n",
       "115    -0.626463  0.479120 -0.166937  0.081247  0.001192    1.18      0  \n",
       "...          ...       ...       ...       ...       ...     ...    ...  \n",
       "282987  0.616683 -0.283548 -1.084843  0.073133 -0.036020   11.99      0  \n",
       "283483  0.082926  0.044127  0.639270  0.213565  0.119251    6.82      0  \n",
       "283485  0.083250  0.044944  0.639933  0.219432  0.116772   11.93      0  \n",
       "284191 -0.096395  0.086719 -0.451128 -1.183743 -0.222200   55.66      0  \n",
       "284193 -0.097597  0.083693 -0.453584 -1.205466 -0.213020   36.74      0  \n",
       "\n",
       "[1081 rows x 31 columns]"
      ]
     },
     "execution_count": 33,
     "metadata": {},
     "output_type": "execute_result"
    }
   ],
   "source": [
    "df[df.duplicated()]"
   ]
  },
  {
   "cell_type": "code",
   "execution_count": 34,
   "metadata": {},
   "outputs": [],
   "source": [
    "df.drop_duplicates(inplace=True)"
   ]
  },
  {
   "cell_type": "markdown",
   "metadata": {},
   "source": [
    "Firstly, it can be plotted the distribution of the exposed features (that is , both time and Amount):"
   ]
  },
  {
   "cell_type": "code",
   "execution_count": 35,
   "metadata": {},
   "outputs": [
    {
     "data": {
      "image/png": "[encoded data removed]",
      "text/plain": [
       "<Figure size 1200x600 with 1 Axes>"
      ]
     },
     "metadata": {},
     "output_type": "display_data"
    }
   ],
   "source": [
    "import matplotlib.pyplot as plt\n",
    "import seaborn as sns\n",
    "# Distribution of 'Time'\n",
    "plt.figure(figsize=(12, 6))\n",
    "sns.histplot(df['Time'], bins=50, kde=True, color='blue')\n",
    "plt.title('Distribution of Time')\n",
    "plt.xlabel('Time (seconds)')\n",
    "plt.ylabel('Frequency')\n",
    "plt.show()\n",
    "\n"
   ]
  },
  {
   "cell_type": "code",
   "execution_count": 36,
   "metadata": {},
   "outputs": [
    {
     "data": {
      "text/plain": [
       "-0.03558064623598194"
      ]
     },
     "execution_count": 36,
     "metadata": {},
     "output_type": "execute_result"
    }
   ],
   "source": [
    "df['Time'].skew()"
   ]
  },
  {
   "cell_type": "code",
   "execution_count": 37,
   "metadata": {},
   "outputs": [
    {
     "data": {
      "text/plain": [
       "-1.293432497044405"
      ]
     },
     "execution_count": 37,
     "metadata": {},
     "output_type": "execute_result"
    }
   ],
   "source": [
    "df['Time'].kurt()"
   ]
  },
  {
   "cell_type": "code",
   "execution_count": 38,
   "metadata": {},
   "outputs": [
    {
     "data": {
      "image/png": "[encoded data removed]",
      "text/plain": [
       "<Figure size 1000x600 with 1 Axes>"
      ]
     },
     "metadata": {},
     "output_type": "display_data"
    }
   ],
   "source": [
    "# Box plot of 'Amount' with rotated layout\n",
    "plt.figure(figsize=(10, 6))  # Adjust figure size to match the rotated plot\n",
    "sns.boxplot(y=df['Amount'], color='lightblue')  # Use 'y' instead of 'x'\n",
    "plt.title('Box Plot of Transaction Amount', fontsize=14)\n",
    "plt.ylabel('Transaction Amount ($)', fontsize=12)\n",
    "plt.xlabel('')  # Remove x-axis label as it's unnecessary for the rotated view\n",
    "plt.xticks(rotation=0)  # No rotation needed for x-axis ticks in this orientation\n",
    "plt.yticks(rotation=0)  # Keep y-axis ticks horizontal\n",
    "plt.show()"
   ]
  },
  {
   "cell_type": "code",
   "execution_count": 39,
   "metadata": {},
   "outputs": [
    {
     "data": {
      "text/plain": [
       "16.978803370060476"
      ]
     },
     "execution_count": 39,
     "metadata": {},
     "output_type": "execute_result"
    }
   ],
   "source": [
    "df['Amount'].skew()"
   ]
  },
  {
   "cell_type": "code",
   "execution_count": 40,
   "metadata": {},
   "outputs": [
    {
     "data": {
      "text/plain": [
       "844.471319490649"
      ]
     },
     "execution_count": 40,
     "metadata": {},
     "output_type": "execute_result"
    }
   ],
   "source": [
    "df['Amount'].kurt()"
   ]
  },
  {
   "cell_type": "markdown",
   "metadata": {},
   "source": [
    "To perform a PCA. it is required to scale all of features that take part of such transformation. Despite of not knowing how the data was, the exposed features ( also the remaning ones to be scaled) should be scaled as well, as we are using later on a Logistic Regression Classifier, that requires the data to be scaled accordingly."
   ]
  },
  {
   "cell_type": "code",
   "execution_count": 41,
   "metadata": {},
   "outputs": [],
   "source": [
    "\n",
    "from sklearn.preprocessing import StandardScaler, RobustScaler\n",
    "\n",
    "# RobustScaler is less prone to outliers.\n",
    "\n",
    "std_scaler = StandardScaler()\n",
    "rob_scaler = RobustScaler()\n",
    "\n",
    "df['Amount'] = rob_scaler.fit_transform(df['Amount'].values.reshape(-1,1))\n",
    "df['Time'] = std_scaler.fit_transform(df['Time'].values.reshape(-1,1))\n",
    "\n",
    "\n",
    "\n"
   ]
  },
  {
   "cell_type": "markdown",
   "metadata": {},
   "source": [
    "Next, as it was already expected that this dataset is , in fact, imbalanced, it is important to check the distribution of the target variable, that is, the 'Class' Variable:\n"
   ]
  },
  {
   "cell_type": "code",
   "execution_count": 42,
   "metadata": {},
   "outputs": [
    {
     "data": {
      "image/png": "[encoded data removed]",
      "text/plain": [
       "<Figure size 600x400 with 1 Axes>"
      ]
     },
     "metadata": {},
     "output_type": "display_data"
    },
    {
     "name": "stdout",
     "output_type": "stream",
     "text": [
      "Class Distribution Percentages:\n",
      "Class 0: 99.83328986416473%\n",
      "Class 1: 0.1667101358352777%\n"
     ]
    }
   ],
   "source": [
    "plt.figure(figsize=(6, 4))\n",
    "\n",
    "# Create the count plot\n",
    "sns.countplot(x='Class', data=df)\n",
    "plt.title('Class Distributions \\n (0: No Fraud || 1: Fraud)', fontsize=14)\n",
    "\n",
    "# Calculate percentages\n",
    "class_counts = df['Class'].value_counts()\n",
    "total = len(df)\n",
    "percentages = (class_counts / total) * 100\n",
    "\n",
    "# Add percentages inside the bars\n",
    "for i, count in enumerate(class_counts):\n",
    "    percentage = percentages[i]\n",
    "    plt.text(i, count / 2, f'{percentage:.2f}%', ha='center', va='center', color='white', fontsize=12)\n",
    "\n",
    "plt.show()\n",
    "\n",
    "# Print the percentages\n",
    "print(\"Class Distribution Percentages:\")\n",
    "for label, percentage in percentages.items():\n",
    "    print(f\"Class {label}: {percentage}%\")"
   ]
  },
  {
   "cell_type": "markdown",
   "metadata": {},
   "source": [
    "## Measuring Performance Metrics"
   ]
  },
  {
   "cell_type": "markdown",
   "metadata": {},
   "source": [
    "### Splitting Data into Training and Test Sets"
   ]
  },
  {
   "cell_type": "code",
   "execution_count": 43,
   "metadata": {},
   "outputs": [
    {
     "name": "stdout",
     "output_type": "stream",
     "text": [
      "Class distribution in the training set (%):\n",
      "Class\n",
      "0    99.83334\n",
      "1     0.16666\n",
      "Name: proportion, dtype: float64\n",
      "\n",
      "Class distribution in the test set (%):\n",
      "Class\n",
      "0    99.833173\n",
      "1     0.166827\n",
      "Name: proportion, dtype: float64\n"
     ]
    }
   ],
   "source": [
    "from sklearn.model_selection import train_test_split\n",
    "\n",
    "\n",
    "X_, y_ = df.drop(columns=['Class']), df['Class']\n",
    "X_train, X_test, y_train, y_test = train_test_split(X_, y_, test_size=0.3,stratify=y_, random_state=42)\n",
    "\n",
    "\n",
    "# Check class distribution in the train set\n",
    "train_class_distribution = y_train.value_counts(normalize=True) * 100\n",
    "print(\"Class distribution in the training set (%):\")\n",
    "print(train_class_distribution)\n",
    "\n",
    "# Check class distribution in the test set\n",
    "test_class_distribution = y_test.value_counts(normalize=True) * 100\n",
    "print(\"\\nClass distribution in the test set (%):\")\n",
    "print(test_class_distribution)"
   ]
  },
  {
   "cell_type": "markdown",
   "metadata": {},
   "source": [
    "The class distributions shows us that, in both test and training set, the original proportions of the target variable's classes are maintained, given that these are close to the Class distributions both in the training set as in the test set. So, it is safe to say that the split was well done. "
   ]
  },
  {
   "cell_type": "code",
   "execution_count": 44,
   "metadata": {},
   "outputs": [],
   "source": [
    "from sklearn.linear_model import LogisticRegression\n",
    "from sklearn.svm import SVC\n",
    "from sklearn.neighbors import KNeighborsClassifier\n",
    "from sklearn.tree import DecisionTreeClassifier\n",
    "#from sklearn.ensemble import RandomForestClassifier\n",
    "\n",
    "classifiers = [\n",
    "    ('Decision Tree', DecisionTreeClassifier()),\n",
    "    ('Logistic Regression', LogisticRegression()),\n",
    "    ('KNN', KNeighborsClassifier()),\n",
    "    #('SVM', SVC())\n",
    "]\n"
   ]
  },
  {
   "cell_type": "markdown",
   "metadata": {},
   "source": [
    "### **The meaning of the performance metrics**\n",
    "\n",
    "In this context, each concept has a context-based meaning.\n",
    "\n",
    "| **Term**            | **Definition**                                                                             |\n",
    "|----------------------|-------------------------------------------------------------------------------------------|\n",
    "| **True Positives**   | Correctly Classified Fraud Transactions                                                   |\n",
    "| **False Positives**  | Incorrectly Classified Fraud Transactions                                                 |\n",
    "| **True Negatives**   | Correctly Classified Non-Fraud Transactions                                               |\n",
    "| **False Negatives**  | Incorrectly Classified Non-Fraud Transactions                                             |\n",
    "| **Precision**        | True Positives text{True Positives} + {False Positives}            \n",
    "| **Recall**           | \\( \\text{True Positives} / (\\text{True Positives} + \\text{False Negatives}) \\)            |\n",
    "| **Precision Meaning**| How precise is our model in detecting fraud transactions. That is, out of all the transactions the model flagged as fraud, the percentage of those who were actually fraud?                       |\n",
    "| **Recall Meaning**   | The amount of fraud cases our model is able to detect. That is, out of all actual fraud cases, the percentage of those who were correctly identified?\"  \n",
    "\n"
   ]
  },
  {
   "cell_type": "markdown",
   "metadata": {},
   "source": [
    "#### **Precision-Recall Trade-off**\n",
    "\n",
    "On the one hand, a model with a lower recall but an higher precision, is a model more selective. In fact, it is more likely to flag fewer transactions as fraud, which reduces false positives However, it may result in missing some actual fraud cases (increasing false negatives). In a real-world perspective, it would be more suitable for scenarios where incorrectly flagging legitimate transactions has significant consequences, such as customer dissatisfaction or financial loss due to declined transactions.\n",
    "On the other hand , a model with an higher recall , and a lower precision, is a model more aggressive. That means that the model will be flagging more transactions as fraud, which can increase the likelihood of catching all fraud cases, but it also may flag more legitimate transactions (increasing false positives) wrongly. In a real-world example, such model is more suitable for scenarios where detecting fraud is critical, and false positives are less problematic."
   ]
  },
  {
   "cell_type": "markdown",
   "metadata": {},
   "source": [
    "#### **The importance of ROC_AUC measure**\n",
    "\n",
    "The ROC-AUC (Receiver Operating Characteristic - Area Under the Curve) is a crucial metric for evaluating binary classification models, particularly in tasks like fraud detection. It measures the model's ability to distinguish between classes (e.g., fraud vs. non-fraud) by assessing how well it ranks predictions based on their probabilities. Unlike threshold-dependent metrics, ROC-AUC evaluates performance across all thresholds, making it a comprehensive and fair measure. It balances the tradeoff between true positives and false positives, providing insights into the model's discriminative power. ROC-AUC is particularly valuable in imbalanced datasets, as it focuses on ranking predictions rather than absolute counts, making it less biased than metrics like accuracy. A high ROC-AUC value indicates strong model performance, while a value near 0.5 suggests the model performs no better than random guessing. This metric is widely used for comparing models and ensuring the best one is chosen for critical applications like fraud detection."
   ]
  },
  {
   "cell_type": "markdown",
   "metadata": {},
   "source": [
    "### **Chossing the macro metric as the overall metric**"
   ]
  },
  {
   "cell_type": "markdown",
   "metadata": {},
   "source": [
    "Macro metrics give equal importance to all classes by calculating metrics independently for each class and then taking their unweighted mean, regardless of class size. They are particularly useful when all classes are equally important or when dealing with imbalanced datasets. Macro metrics provide a clearer understanding of model performance across all classes, highlighting issues with minority class predictions, which is crucial in scenarios like fraud detection where misclassifying minority cases can have significant consequences."
   ]
  },
  {
   "cell_type": "code",
   "execution_count": 45,
   "metadata": {},
   "outputs": [],
   "source": [
    "from sklearn.metrics import accuracy_score, precision_score, recall_score, f1_score, roc_auc_score\n",
    "\n",
    "def model_results(classifiers, X_train, y_train, X_test, y_test):\n",
    "    for name, classifier in classifiers:\n",
    "        print(f\"\\n{'='*40}\")\n",
    "        print(f\"Training and Evaluating: {name}\")\n",
    "        print(f\"{'='*40}\")\n",
    "        \n",
    "        # Train the classifier\n",
    "        classifier.fit(X_train, y_train)\n",
    "        y_pred = classifier.predict(X_test)\n",
    "        \n",
    "        # Compute overall metrics\n",
    "        accuracy = accuracy_score(y_test, y_pred)\n",
    "        precision_macro = precision_score(y_test, y_pred, average='macro')\n",
    "        recall_macro = recall_score(y_test, y_pred, average='macro')\n",
    "        f1_macro = f1_score(y_test, y_pred, average='macro')\n",
    "        roc_auc = roc_auc_score(y_test, y_pred)\n",
    "        \n",
    "        # Display overall results\n",
    "        print(f\"\\nOverall Metrics:\")\n",
    "        print(f\"{'-'*40}\")\n",
    "        print(f\"Accuracy              : {accuracy:.2f}\")\n",
    "        print(f\"Precision (Macro)     : {precision_macro:.2f}\")\n",
    "        print(f\"Recall (Macro)        : {recall_macro:.2f}\")\n",
    "        print(f\"F1 Score (Macro)      : {f1_macro:.2f}\")\n",
    "        print(f\"ROC-AUC               : {roc_auc:.2f}\")\n",
    "        print(f\"{'='*40}\\n\")"
   ]
  },
  {
   "cell_type": "code",
   "execution_count": 46,
   "metadata": {},
   "outputs": [
    {
     "name": "stdout",
     "output_type": "stream",
     "text": [
      "\n",
      "========================================\n",
      "Training and Evaluating: Decision Tree\n",
      "========================================\n",
      "\n",
      "Overall Metrics:\n",
      "----------------------------------------\n",
      "Accuracy              : 1.00\n",
      "Precision (Macro)     : 0.87\n",
      "Recall (Macro)        : 0.85\n",
      "F1 Score (Macro)      : 0.86\n",
      "ROC-AUC               : 0.85\n",
      "========================================\n",
      "\n",
      "\n",
      "========================================\n",
      "Training and Evaluating: Logistic Regression\n",
      "========================================\n",
      "\n",
      "Overall Metrics:\n",
      "----------------------------------------\n",
      "Accuracy              : 1.00\n",
      "Precision (Macro)     : 0.92\n",
      "Recall (Macro)        : 0.78\n",
      "F1 Score (Macro)      : 0.84\n",
      "ROC-AUC               : 0.78\n",
      "========================================\n",
      "\n",
      "\n",
      "========================================\n",
      "Training and Evaluating: KNN\n",
      "========================================\n",
      "\n",
      "Overall Metrics:\n",
      "----------------------------------------\n",
      "Accuracy              : 1.00\n",
      "Precision (Macro)     : 0.97\n",
      "Recall (Macro)        : 0.85\n",
      "F1 Score (Macro)      : 0.90\n",
      "ROC-AUC               : 0.85\n",
      "========================================\n",
      "\n"
     ]
    }
   ],
   "source": [
    "model_results(classifiers, X_train, y_train, X_test, y_test)"
   ]
  },
  {
   "cell_type": "markdown",
   "metadata": {},
   "source": [
    "## **Exploring Undersampling and Oversampling Approaches**"
   ]
  },
  {
   "cell_type": "markdown",
   "metadata": {},
   "source": [
    "The [imbalanced-learn](https://imbalanced-learn.org/stable/index.html) toolbox offers a variety of implementations that corresponds to balancing techiques. In order to employ them in a more legible way, a set of wrapper functions were defined, each one corresponding to a sampling approach."
   ]
  },
  {
   "cell_type": "code",
   "execution_count": 47,
   "metadata": {},
   "outputs": [],
   "source": [
    "from imblearn.under_sampling import RandomUnderSampler\n",
    "from imblearn.over_sampling import RandomOverSampler, SMOTE, ADASYN, SMOTEN\n",
    "from imblearn.combine import SMOTEENN, SMOTETomek"
   ]
  },
  {
   "cell_type": "code",
   "execution_count": 48,
   "metadata": {},
   "outputs": [],
   "source": [
    "def random_undersampling(X, y):\n",
    "    \"\"\"Undersamples the training data (X) according to RUS.\"\"\"\n",
    "    generator = RandomUnderSampler(random_state=42)\n",
    "    X_res, y_res = generator.fit_resample(X, y)\n",
    "    return X_res, y_res\n",
    "\n",
    "\n",
    "def random_oversampling(X, y):\n",
    "    \"\"\"Oversamples the training data (X) according to ROS.\"\"\"\n",
    "    generator = RandomOverSampler(random_state=42)\n",
    "    X_res, y_res = generator.fit_resample(X, y)\n",
    "    return X_res, y_res\n",
    "\n",
    "\n",
    "def smote_oversampling(X, y):\n",
    "    \"\"\"Applies the SMOTE technique on the training data (X).\"\"\"\n",
    "    generator = SMOTE(random_state=42)\n",
    "    X_res, y_res = generator.fit_resample(X, y)\n",
    "    return X_res, y_res\n",
    "def smote_n(X, y):\n",
    "    \"\"\"Applies the SMOTEN technique on the training data (X).\"\"\"\n",
    "    # Pass k_neighbors to the SMOTE object used within SMOTEN\n",
    "    generator = SMOTEN(random_state=42)\n",
    "    X_res, y_res = generator.fit_resample(X, y)\n",
    "    return X_res, y_res\n",
    "def smote_enn(X, y):\n",
    "    \"\"\"Applies the SMOTEENN technique on the training data (X).\"\"\"\n",
    "    # Pass k_neighbors to the SMOTE object used within SMOTEENN\n",
    "    generator = SMOTEENN(random_state=42)\n",
    "    X_res, y_res = generator.fit_resample(X, y)\n",
    "    return X_res, y_res\n",
    "\n",
    "def smote_tomek(X, y):\n",
    "    \"\"\"Applies the SMOTETomek technique on the training data (X).\"\"\"\n",
    "    # Pass k_neighbors to the SMOTE object used within SMOTETomek\n",
    "    generator = SMOTETomek(random_state=42)\n",
    "    X_res, y_res = generator.fit_resample(X, y)\n",
    "    return X_res, y_res\n",
    "def ADASYN_(X, y):\n",
    "    \"\"\"Applies the ADASYN technique on the training data (X).\"\"\"\n",
    "    # Pass k_neighbors to the SMOTE object used within SMOTETomek\n",
    "    generator = ADASYN(sampling_strategy='auto', random_state=42)\n",
    "    X_res, y_res = generator.fit_resample(X, y)\n",
    "    return X_res, y_res\n"
   ]
  },
  {
   "cell_type": "markdown",
   "metadata": {},
   "source": [
    "### **3.1. Exploring Random Undersampling (RUS)**"
   ]
  },
  {
   "cell_type": "markdown",
   "metadata": {},
   "source": [
    "In what follows, we will repeat the previous steps (fitting a classifier and evaluating performance) using different resampling techniques to tackle the class imbalance problem before model training. We start with **RandomUndersampling**, which randomly removes some of the majority class examples to achieve prevalence parity:"
   ]
  },
  {
   "cell_type": "code",
   "execution_count": 49,
   "metadata": {},
   "outputs": [
    {
     "name": "stdout",
     "output_type": "stream",
     "text": [
      "Shape of X_train:  (198608, 30)\n",
      "Distribution of original training data:  Counter({0: 198277, 1: 331})\n",
      "Shape of X_train_rus:  (662, 30)\n",
      "Distribution of undersampled training data:  Counter({0: 331, 1: 331})\n"
     ]
    }
   ],
   "source": [
    "from collections import Counter\n",
    "\n",
    "# Perform Random Undersampling\n",
    "X_train_rus, y_train_rus = random_undersampling(X_train, y_train)\n",
    "\n",
    "print(\"Shape of X_train: \", X_train.shape)\n",
    "print(\"Distribution of original training data: \", Counter(y_train))\n",
    "\n",
    "print(\"Shape of X_train_rus: \", X_train_rus.shape)\n",
    "print(\"Distribution of undersampled training data: \", Counter(y_train_rus))"
   ]
  },
  {
   "cell_type": "markdown",
   "metadata": {},
   "source": [
    "Since the original training set consisted of **378 minority class examples** and **226980 majority class examples**, RUS randomly removes some majority class examples to keep only **378 majority examples** as well. The undersampled dataset now comprises 300 examples with balanced class priors."
   ]
  },
  {
   "cell_type": "code",
   "execution_count": 50,
   "metadata": {},
   "outputs": [
    {
     "name": "stdout",
     "output_type": "stream",
     "text": [
      "\n",
      "========================================\n",
      "Training and Evaluating: Decision Tree\n",
      "========================================\n",
      "\n",
      "Overall Metrics:\n",
      "----------------------------------------\n",
      "Accuracy              : 0.91\n",
      "Precision (Macro)     : 0.51\n",
      "Recall (Macro)        : 0.90\n",
      "F1 Score (Macro)      : 0.49\n",
      "ROC-AUC               : 0.90\n",
      "========================================\n",
      "\n",
      "\n",
      "========================================\n",
      "Training and Evaluating: Logistic Regression\n",
      "========================================\n",
      "\n",
      "Overall Metrics:\n",
      "----------------------------------------\n",
      "Accuracy              : 0.96\n",
      "Precision (Macro)     : 0.52\n",
      "Recall (Macro)        : 0.92\n",
      "F1 Score (Macro)      : 0.52\n",
      "ROC-AUC               : 0.92\n",
      "========================================\n",
      "\n",
      "\n",
      "========================================\n",
      "Training and Evaluating: KNN\n",
      "========================================\n",
      "\n",
      "Overall Metrics:\n",
      "----------------------------------------\n",
      "Accuracy              : 0.98\n",
      "Precision (Macro)     : 0.53\n",
      "Recall (Macro)        : 0.91\n",
      "F1 Score (Macro)      : 0.55\n",
      "ROC-AUC               : 0.91\n",
      "========================================\n",
      "\n"
     ]
    }
   ],
   "source": [
    "model_results(classifiers, X_train_rus, y_train_rus, X_test, y_test)"
   ]
  },
  {
   "cell_type": "markdown",
   "metadata": {},
   "source": [
    "As already expected, given the disparity of the distribution of the target variable ( as previously seen before, 99.74% of the cases are classified as non-fraud), undersampling techniques will tend to erase the negative cases, witch results on a heavy information loss. In fact, the f1 scores of the class 1 reflects a under-performed model."
   ]
  },
  {
   "cell_type": "markdown",
   "metadata": {},
   "source": [
    "### **3.2. Exploring Random Oversampling (ROS)**"
   ]
  },
  {
   "cell_type": "markdown",
   "metadata": {},
   "source": [
    "Rather than removing majority examples from the training, **Random Oversampling (ROS) inflates the minority class concepts** until the class priors are balanced. To that end, it randomly selects some minority class examples, creates exact replicas of these examples, and adds them to the training data."
   ]
  },
  {
   "cell_type": "code",
   "execution_count": 51,
   "metadata": {},
   "outputs": [
    {
     "name": "stdout",
     "output_type": "stream",
     "text": [
      "Shape of X_train:  (198608, 30)\n",
      "Distribution of original training data:  Counter({0: 198277, 1: 331})\n",
      "Shape of X_train_rus:  (396554, 30)\n",
      "Distribution of undersampled training data:  Counter({0: 198277, 1: 198277})\n"
     ]
    }
   ],
   "source": [
    "# Perform Random Undersampling\n",
    "X_train_ros, y_train_ros = random_oversampling(X_train, y_train)\n",
    "\n",
    "print(\"Shape of X_train: \", X_train.shape)\n",
    "print(\"Distribution of original training data: \", Counter(y_train))\n",
    "\n",
    "print(\"Shape of X_train_rus: \", X_train_ros.shape)\n",
    "print(\"Distribution of undersampled training data: \", Counter(y_train_ros))"
   ]
  },
  {
   "cell_type": "code",
   "execution_count": 52,
   "metadata": {},
   "outputs": [
    {
     "name": "stdout",
     "output_type": "stream",
     "text": [
      "\n",
      "========================================\n",
      "Training and Evaluating: Decision Tree\n",
      "========================================\n",
      "\n",
      "Overall Metrics:\n",
      "----------------------------------------\n",
      "Accuracy              : 1.00\n",
      "Precision (Macro)     : 0.87\n",
      "Recall (Macro)        : 0.85\n",
      "F1 Score (Macro)      : 0.86\n",
      "ROC-AUC               : 0.85\n",
      "========================================\n",
      "\n",
      "\n",
      "========================================\n",
      "Training and Evaluating: Logistic Regression\n",
      "========================================\n",
      "\n",
      "Overall Metrics:\n",
      "----------------------------------------\n",
      "Accuracy              : 0.97\n",
      "Precision (Macro)     : 0.53\n",
      "Recall (Macro)        : 0.93\n",
      "F1 Score (Macro)      : 0.54\n",
      "ROC-AUC               : 0.93\n",
      "========================================\n",
      "\n",
      "\n",
      "========================================\n",
      "Training and Evaluating: KNN\n",
      "========================================\n",
      "\n",
      "Overall Metrics:\n",
      "----------------------------------------\n",
      "Accuracy              : 1.00\n",
      "Precision (Macro)     : 0.84\n",
      "Recall (Macro)        : 0.90\n",
      "F1 Score (Macro)      : 0.87\n",
      "ROC-AUC               : 0.90\n",
      "========================================\n",
      "\n"
     ]
    }
   ],
   "source": [
    "model_results(classifiers, X_train_ros, y_train_ros, X_test, y_test)"
   ]
  },
  {
   "cell_type": "markdown",
   "metadata": {},
   "source": [
    "### **Exploring Synthetic Minority Oversampling Technique (SMOTE)**\n",
    "\n"
   ]
  },
  {
   "cell_type": "markdown",
   "metadata": {},
   "source": [
    "Synthetic Minority Oversampling Technique (SMOTE) is a statistical technique for increasing the number of cases in your dataset in a balanced way. The component works by generating new instances from existing minority cases that you supply as input. This implementation of SMOTE does not change the number of majority cases.\n",
    "The new instances are not just copies of existing minority cases. Instead, the algorithm takes samples of the feature space for each target class and its nearest neighbors. The algorithm then generates new examples that combine features of the target case with features of its neighbors. This approach increases the features available to each class and makes the samples more general."
   ]
  },
  {
   "cell_type": "code",
   "execution_count": 53,
   "metadata": {},
   "outputs": [
    {
     "name": "stdout",
     "output_type": "stream",
     "text": [
      "Shape of X_train:  (198608, 30)\n",
      "Distribution of original training data:  Counter({0: 198277, 1: 331})\n",
      "Shape of X_train_smote:  (396554, 30)\n",
      "Distribution of oversampled training data:  Counter({0: 198277, 1: 198277})\n",
      "\n",
      "========================================\n",
      "Training and Evaluating: Decision Tree\n",
      "========================================\n",
      "\n",
      "Overall Metrics:\n",
      "----------------------------------------\n",
      "Accuracy              : 1.00\n",
      "Precision (Macro)     : 0.68\n",
      "Recall (Macro)        : 0.86\n",
      "F1 Score (Macro)      : 0.74\n",
      "ROC-AUC               : 0.86\n",
      "========================================\n",
      "\n",
      "\n",
      "========================================\n",
      "Training and Evaluating: Logistic Regression\n",
      "========================================\n",
      "\n",
      "Overall Metrics:\n",
      "----------------------------------------\n",
      "Accuracy              : 0.97\n",
      "Precision (Macro)     : 0.53\n",
      "Recall (Macro)        : 0.93\n",
      "F1 Score (Macro)      : 0.54\n",
      "ROC-AUC               : 0.93\n",
      "========================================\n",
      "\n",
      "\n",
      "========================================\n",
      "Training and Evaluating: KNN\n",
      "========================================\n",
      "\n",
      "Overall Metrics:\n",
      "----------------------------------------\n",
      "Accuracy              : 1.00\n",
      "Precision (Macro)     : 0.72\n",
      "Recall (Macro)        : 0.90\n",
      "F1 Score (Macro)      : 0.78\n",
      "ROC-AUC               : 0.90\n",
      "========================================\n",
      "\n"
     ]
    }
   ],
   "source": [
    "# Applying SMOTE\n",
    "X_train_smote, y_train_smote = smote_oversampling(X_train, y_train)\n",
    "\n",
    "print(\"Shape of X_train: \", X_train.shape)\n",
    "print(\"Distribution of original training data: \", Counter(y_train))\n",
    "\n",
    "print(\"Shape of X_train_smote: \", X_train_smote.shape)\n",
    "print(\"Distribution of oversampled training data: \", Counter(y_train_smote))\n",
    "\n",
    "model_results(classifiers, X_train_smote, y_train_smote, X_test, y_test)"
   ]
  },
  {
   "cell_type": "markdown",
   "metadata": {},
   "source": [
    "#### SMOTE Variants"
   ]
  },
  {
   "cell_type": "markdown",
   "metadata": {},
   "source": [
    "#### Adaptive Synthetic Sampling (ADASYN)"
   ]
  },
  {
   "cell_type": "markdown",
   "metadata": {},
   "source": [
    "ADASYN works by generating synthetic samples for minority classes based on the feature space of the original dataset. It calculates the density distribution of each minority class sample and generates synthetic samples according to the density distribution. This adaptive approach ensures that more synthetic samples are generated for minority class samples that are harder to learn, thus improving the classification performance of machine learning models."
   ]
  },
  {
   "cell_type": "code",
   "execution_count": 54,
   "metadata": {},
   "outputs": [
    {
     "name": "stdout",
     "output_type": "stream",
     "text": [
      "Shape of X_train:  (198608, 30)\n",
      "Distribution of original training data:  Counter({0: 198277, 1: 331})\n",
      "Shape of X_train_smote_adasyn:  (396552, 30)\n",
      "Distribution of oversampled training data:  Counter({0: 198277, 1: 198275})\n",
      "\n",
      "========================================\n",
      "Training and Evaluating: Decision Tree\n",
      "========================================\n",
      "\n",
      "Overall Metrics:\n",
      "----------------------------------------\n",
      "Accuracy              : 1.00\n",
      "Precision (Macro)     : 0.71\n",
      "Recall (Macro)        : 0.85\n",
      "F1 Score (Macro)      : 0.76\n",
      "ROC-AUC               : 0.85\n",
      "========================================\n",
      "\n",
      "\n",
      "========================================\n",
      "Training and Evaluating: Logistic Regression\n",
      "========================================\n",
      "\n",
      "Overall Metrics:\n",
      "----------------------------------------\n",
      "Accuracy              : 0.92\n",
      "Precision (Macro)     : 0.51\n",
      "Recall (Macro)        : 0.91\n",
      "F1 Score (Macro)      : 0.50\n",
      "ROC-AUC               : 0.91\n",
      "========================================\n",
      "\n",
      "\n",
      "========================================\n",
      "Training and Evaluating: KNN\n",
      "========================================\n",
      "\n",
      "Overall Metrics:\n",
      "----------------------------------------\n",
      "Accuracy              : 1.00\n",
      "Precision (Macro)     : 0.72\n",
      "Recall (Macro)        : 0.90\n",
      "F1 Score (Macro)      : 0.78\n",
      "ROC-AUC               : 0.90\n",
      "========================================\n",
      "\n"
     ]
    }
   ],
   "source": [
    "X_train_smote_adasyn, y_train_smote_adasyn = ADASYN_(X_train, y_train)\n",
    "\n",
    "print(\"Shape of X_train: \", X_train.shape)\n",
    "print(\"Distribution of original training data: \", Counter(y_train))\n",
    "\n",
    "print(\"Shape of X_train_smote_adasyn: \", X_train_smote_adasyn.shape)\n",
    "print(\"Distribution of oversampled training data: \", Counter(y_train_smote_adasyn))\n",
    "\n",
    "model_results(classifiers, X_train_smote_adasyn, y_train_smote_adasyn, X_test, y_test)"
   ]
  },
  {
   "cell_type": "markdown",
   "metadata": {},
   "source": [
    "#### **SMOTEN (Synthetic Minority Over-sampling Technique for Nominal and Continuous)** "
   ]
  },
  {
   "cell_type": "markdown",
   "metadata": {},
   "source": [
    "SMOTEN is an extension of the SMOTE algorithm designed to handle datasets with both categorical (nominal) and continuous features. Unlike traditional SMOTE, which works only with continuous data, SMOTEN generates synthetic minority class samples by preserving the integrity of categorical features while interpolating continuous features. This makes it an effective solution for balancing imbalanced datasets with mixed feature types, helping improve model performance by creating more realistic synthetic samples."
   ]
  },
  {
   "cell_type": "code",
   "execution_count": null,
   "metadata": {},
   "outputs": [],
   "source": [
    "X_train_smote_n, y_train_smote_n = smote_n(X_train, y_train)\n",
    "\n",
    "print(\"Shape of X_train: \", X_train.shape)\n",
    "print(\"Distribution of original training data: \", Counter(y_train))\n",
    "\n",
    "print(\"Shape of X_train_smote_n: \", X_train_smote_n.shape)\n",
    "print(\"Distribution of oversampled training data: \", Counter(y_train_smote_n))\n",
    "\n",
    "model_results(classifiers, X_train_smote_n, y_train_smote_n, X_test, y_test)"
   ]
  },
  {
   "cell_type": "markdown",
   "metadata": {},
   "source": [
    "#### **SMOTE SVM**"
   ]
  },
  {
   "cell_type": "markdown",
   "metadata": {},
   "source": [
    "SMOTE SVM is a combination of the SMOTE (Synthetic Minority Over-sampling Technique) and Support Vector Machine (SVM) algorithms aimed at improving the performance of classification models on imbalanced datasets. SMOTE generates synthetic samples to balance the dataset, specifically for the minority class, while SVM is used as the classifier.\n",
    "SMOTE is used to generate synthetic data points for the minority class, creating a more balanced dataset. Yet, SVM is then applied to this balanced dataset, where the model is trained to better distinguish between the minority and majority classes, leading to improved classification performance, especially for the minority class.\n",
    "In summary, SMOTE SVM combines the strengths of synthetic over-sampling with SVM to address class imbalance and enhance the classifier's ability to detect minority class instances."
   ]
  },
  {
   "cell_type": "markdown",
   "metadata": {},
   "source": [
    "### **Combination of Over and under-sampling methods**"
   ]
  },
  {
   "cell_type": "markdown",
   "metadata": {},
   "source": [
    "The imblearn.combine provides methods which combine over-sampling and under-sampling. In the imblearn.combine module, SMOTEEN and SMOTE Tomek are two advanced hybrid techniques that combine oversampling and undersampling to address imbalanced datasets effectively."
   ]
  },
  {
   "cell_type": "markdown",
   "metadata": {},
   "source": [
    "#### **SMOTEEN** "
   ]
  },
  {
   "cell_type": "markdown",
   "metadata": {},
   "source": [
    "This method starts with SMOTE for oversampling the minority class.\n",
    "After oversampling, it uses the Edited Nearest Neighbors (ENN) method for undersampling. ENN removes samples whose class label differs from the majority of their nearest neighbors, effectively cleaning noisy or ambiguous samples.\n",
    "SMOTEEN is particularly useful for addressing datasets with overlapping class distributions and significant noise, as it emphasizes dataset refinement after oversampling."
   ]
  },
  {
   "cell_type": "code",
   "execution_count": 55,
   "metadata": {},
   "outputs": [
    {
     "name": "stdout",
     "output_type": "stream",
     "text": [
      "Shape of X_train:  (198608, 30)\n",
      "Distribution of original training data:  Counter({0: 198277, 1: 331})\n",
      "Shape of X_train_smote_enn:  (396234, 30)\n",
      "Distribution of oversampled training data:  Counter({1: 198277, 0: 197957})\n",
      "\n",
      "========================================\n",
      "Training and Evaluating: Decision Tree\n",
      "========================================\n",
      "\n",
      "Overall Metrics:\n",
      "----------------------------------------\n",
      "Accuracy              : 1.00\n",
      "Precision (Macro)     : 0.68\n",
      "Recall (Macro)        : 0.87\n",
      "F1 Score (Macro)      : 0.74\n",
      "ROC-AUC               : 0.87\n",
      "========================================\n",
      "\n",
      "\n",
      "========================================\n",
      "Training and Evaluating: Logistic Regression\n",
      "========================================\n",
      "\n",
      "Overall Metrics:\n",
      "----------------------------------------\n",
      "Accuracy              : 0.97\n",
      "Precision (Macro)     : 0.52\n",
      "Recall (Macro)        : 0.93\n",
      "F1 Score (Macro)      : 0.54\n",
      "ROC-AUC               : 0.93\n",
      "========================================\n",
      "\n",
      "\n",
      "========================================\n",
      "Training and Evaluating: KNN\n",
      "========================================\n",
      "\n",
      "Overall Metrics:\n",
      "----------------------------------------\n",
      "Accuracy              : 1.00\n",
      "Precision (Macro)     : 0.70\n",
      "Recall (Macro)        : 0.91\n",
      "F1 Score (Macro)      : 0.76\n",
      "ROC-AUC               : 0.91\n",
      "========================================\n",
      "\n"
     ]
    }
   ],
   "source": [
    "X_train_smote_enn, y_train_smote_enn = smote_enn(X_train, y_train)\n",
    "\n",
    "print(\"Shape of X_train: \", X_train.shape)\n",
    "print(\"Distribution of original training data: \", Counter(y_train))\n",
    "\n",
    "print(\"Shape of X_train_smote_enn: \", X_train_smote_enn.shape)\n",
    "print(\"Distribution of oversampled training data: \", Counter(y_train_smote_enn))\n",
    "\n",
    "model_results(classifiers, X_train_smote_enn, y_train_smote_enn, X_test, y_test)"
   ]
  },
  {
   "cell_type": "markdown",
   "metadata": {},
   "source": [
    "#### **SMOTE-Tomek**"
   ]
  },
  {
   "cell_type": "markdown",
   "metadata": {},
   "source": [
    "In a similar manner as SMOTEEN, this method first applies Synthetic Minority Oversampling Technique (SMOTE) to create synthetic samples for the minority class, thus increasing its representation in the dataset.\n",
    "After oversampling, it applies the Tomek Links undersampling technique to clean the dataset. Tomek Links identify pairs of samples from different classes that are nearest neighbors. Removing such links eliminates borderline or noisy examples that might hinder the classifier's performance.\n",
    "The combination of SMOTE and Tomek Links ensures the dataset is balanced while also reducing overlap between classes, leading to improved class separation."
   ]
  },
  {
   "cell_type": "code",
   "execution_count": 56,
   "metadata": {},
   "outputs": [
    {
     "name": "stdout",
     "output_type": "stream",
     "text": [
      "Shape of X_train:  (198608, 30)\n",
      "Distribution of original training data:  Counter({0: 198277, 1: 331})\n",
      "Shape of X_train_smote_tomek:  (396554, 30)\n",
      "Distribution of oversampled training data:  Counter({0: 198277, 1: 198277})\n",
      "\n",
      "========================================\n",
      "Training and Evaluating: Decision Tree\n",
      "========================================\n",
      "\n",
      "Overall Metrics:\n",
      "----------------------------------------\n",
      "Accuracy              : 1.00\n",
      "Precision (Macro)     : 0.69\n",
      "Recall (Macro)        : 0.86\n",
      "F1 Score (Macro)      : 0.75\n",
      "ROC-AUC               : 0.86\n",
      "========================================\n",
      "\n",
      "\n",
      "========================================\n",
      "Training and Evaluating: Logistic Regression\n",
      "========================================\n",
      "\n",
      "Overall Metrics:\n",
      "----------------------------------------\n",
      "Accuracy              : 0.97\n",
      "Precision (Macro)     : 0.53\n",
      "Recall (Macro)        : 0.93\n",
      "F1 Score (Macro)      : 0.54\n",
      "ROC-AUC               : 0.93\n",
      "========================================\n",
      "\n",
      "\n",
      "========================================\n",
      "Training and Evaluating: KNN\n",
      "========================================\n",
      "\n",
      "Overall Metrics:\n",
      "----------------------------------------\n",
      "Accuracy              : 1.00\n",
      "Precision (Macro)     : 0.72\n",
      "Recall (Macro)        : 0.90\n",
      "F1 Score (Macro)      : 0.78\n",
      "ROC-AUC               : 0.90\n",
      "========================================\n",
      "\n"
     ]
    }
   ],
   "source": [
    "X_train_smote_tomek, y_train_smote_tomek = smote_tomek(X_train, y_train)\n",
    "\n",
    "print(\"Shape of X_train: \", X_train.shape)\n",
    "print(\"Distribution of original training data: \", Counter(y_train))\n",
    "\n",
    "print(\"Shape of X_train_smote_tomek: \", X_train_smote_tomek.shape)\n",
    "print(\"Distribution of oversampled training data: \", Counter(y_train_smote_tomek))\n",
    "\n",
    "model_results(classifiers, X_train_smote_tomek, y_train_smote_tomek, X_test, y_test)"
   ]
  }
 ],
 "metadata": {
  "kernelspec": {
   "display_name": "base",
   "language": "python",
   "name": "python3"
  },
  "language_info": {
   "codemirror_mode": {
    "name": "ipython",
    "version": 3
   },
   "file_extension": ".py",
   "mimetype": "text/x-python",
   "name": "python",
   "nbconvert_exporter": "python",
   "pygments_lexer": "ipython3",
   "version": "3.12.4"
  }
 },
 "nbformat": 4,
 "nbformat_minor": 2
}
